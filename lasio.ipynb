{
 "cells": [
  {
   "attachments": {},
   "cell_type": "markdown",
   "metadata": {},
   "source": [
    "# Reading and Parsing LAS file using LASIO"
   ]
  },
  {
   "attachments": {},
   "cell_type": "markdown",
   "metadata": {},
   "source": [
    "Lasio docs: https://lasio.readthedocs.io/en/latest/index.html"
   ]
  },
  {
   "cell_type": "code",
   "execution_count": 22,
   "metadata": {},
   "outputs": [],
   "source": [
    "import lasio\n",
    "import lasio.examples"
   ]
  },
  {
   "attachments": {},
   "cell_type": "markdown",
   "metadata": {},
   "source": [
    "LAS has version, well, curves, parameter and other sections which can be accessed by `las.version`, `las.well`, `las.curves`, `las.param`, and `las.other` objects. Can be seen by running `las.sections.keys()`."
   ]
  },
  {
   "cell_type": "code",
   "execution_count": 23,
   "metadata": {},
   "outputs": [
    {
     "name": "stderr",
     "output_type": "stream",
     "text": [
      "Only engine='normal' can read wrapped files\n"
     ]
    },
    {
     "name": "stdout",
     "output_type": "stream",
     "text": [
      "Mnemonic  Unit  Value  Description                           \n",
      "--------  ----  -----  -----------                           \n",
      "VERS            2.0    CWLS LOG ASCII STANDARD -VERSION 2.0  \n"
     ]
    }
   ],
   "source": [
    "# las = lasio.examples.open(\"1001178549.las\")\n",
    "las = lasio.read('Data/382605076430201.20020311.ZH.las')\n",
    "print(las.version)\n",
    "# or las.sections['Version']"
   ]
  },
  {
   "cell_type": "code",
   "execution_count": 24,
   "metadata": {},
   "outputs": [
    {
     "name": "stdout",
     "output_type": "stream",
     "text": [
      "Mnemonic  Unit    Value         Description             \n",
      "--------  ----    -----         -----------             \n",
      "DEPT      FT      00 001 00 00  1  DEPTH                \n",
      "GAM(NAT)  API-GR  00 310 00 00  2             GAM(NAT)  \n",
      "SP        MV      00 010 00 00  3                   SP  \n",
      "RES(16N)  OHM-M   00 040 00 00  4             RES(16N)  \n",
      "RES(64N)  OHM-M   00 060 00 00  5             RES(64N)  \n",
      "RES       OHM     00 000 00 00  6                  RES  \n",
      "LATERAL   OHM-M   00 070 00 00  7              LATERAL  \n"
     ]
    }
   ],
   "source": [
    "print(las.curves)\n",
    "# or las.sections['Curves']"
   ]
  },
  {
   "cell_type": "code",
   "execution_count": 25,
   "metadata": {},
   "outputs": [
    {
     "name": "stdout",
     "output_type": "stream",
     "text": [
      "Mnemonic  Unit  Value             Description      \n",
      "--------  ----  -----             -----------      \n",
      "STRT      FT    1.2               START DEPTH      \n",
      "STOP      FT    1599.2            STOP DEPTH       \n",
      "STEP      FT    0.1               STEP    UP_HOLE  \n",
      "NULL            -999.25           NULL VALUE       \n",
      "COMP            MDGS              COMPANY          \n",
      "WELL            SMBC39            WELL             \n",
      "FLD             Persimmon H       FIELD            \n",
      "LOC             None  None  None  LOCATION         \n",
      "CNTY            St. Mary's        COUNTY           \n",
      "STAT            Md.               STATE            \n",
      "SRVC            None              SERVICE COMPANY  \n",
      "DATE            03/11/02          LOG DATE         \n",
      "UWI                               UNIQUE WELL ID   \n",
      "LIC                               LICENSE NUMBER   \n"
     ]
    }
   ],
   "source": [
    "print(las.well)"
   ]
  },
  {
   "cell_type": "code",
   "execution_count": 26,
   "metadata": {},
   "outputs": [
    {
     "name": "stdout",
     "output_type": "stream",
     "text": [
      "Mnemonic  Unit  Value       Description               \n",
      "--------  ----  -----       -----------               \n",
      "FILE            ORIGINAL    File Type                 \n",
      "FIID            8044A       File Type Identifier      \n",
      "VERS            1.0         System Version            \n",
      "SER             1           System Serial Number      \n",
      "TRUK            0.0         Truck Calibration Number  \n",
      "TOOL            904         Tool Serial Number        \n",
      "TIME            1205        Time    HrHrMinMin        \n",
      "LAT             None        Latitude                  \n",
      "LON             None        Longitude                 \n",
      "LMF             Grnd. L     Log Measured From         \n",
      "DMF             Grnd. L     Driller Measured From     \n",
      "PD              None        Permanent Data            \n",
      "PDEV            None        Elevation Permanent Data  \n",
      "EKB       M     None        Elevation Kelly Bushing   \n",
      "ELEV      DF    None        Elevation DF              \n",
      "EGL       M     None        Elevation Ground Level    \n",
      "DRDP            1600        Driller's Depth           \n",
      "CASD            12          Casing Diameter           \n",
      "CASB            40          Casing Bottom             \n",
      "CASX            Steel       Casing Type               \n",
      "CAST            0           Casing Thickness          \n",
      "TNOC            None        Time Circulation Stopped  \n",
      "LOGU            None        Logging Unit              \n",
      "RECB            A. McThena  Recorded By               \n",
      "OSR1            None        Other Services            \n",
      "OSR2            None        Other Services            \n",
      "OSR3            None        Other Services            \n",
      "BS        MM    11          Bit Size                  \n",
      "MST                         Mean Surface Temperature  \n",
      "TGRD            0           Temperature Gradiant      \n",
      "MAGN            0           Magnetic Declination      \n",
      "MDEN            2.71        Density Matrix            \n",
      "MATR            Dolomite    Neutron Matrix            \n",
      "DTMT            54          Delta T Matrix            \n",
      "DTFL                        Delta T Fluid             \n",
      "MUDS            0           Mud Sample Source         \n",
      "MRS             0           Mud Resistivity           \n",
      "MTP             0           Mud Temperature           \n",
      "MFRS                        Resistivity Mud Filtrate  \n",
      "MFTP                        Temperature Mud Filtrate  \n",
      "MCRS            0           Resistivity Mud Cake      \n",
      "MCTP                        Temperature Mud Cake      \n",
      "FTYP            0           Fluid Type                \n",
      "FD        K/M3              Fluid Density             \n",
      "DFV       S                 Fluid Viscosity           \n",
      "FPH                         Fuild PH                  \n",
      "ELCO            2500        Electron Cutoff           \n"
     ]
    }
   ],
   "source": [
    "print(las.params)"
   ]
  },
  {
   "attachments": {},
   "cell_type": "markdown",
   "metadata": {},
   "source": [
    "The data is present as a `numpy.ndarray`."
   ]
  },
  {
   "cell_type": "code",
   "execution_count": 27,
   "metadata": {},
   "outputs": [
    {
     "data": {
      "text/plain": [
       "array([[1.20000e+00,         nan,         nan, ...,         nan,\n",
       "                nan, 2.50054e+04],\n",
       "       [1.30000e+00,         nan, 3.26000e+01, ...,         nan,\n",
       "                nan, 2.50054e+04],\n",
       "       [1.40000e+00,         nan, 3.29000e+01, ...,         nan,\n",
       "                nan, 2.50054e+04],\n",
       "       ...,\n",
       "       [1.59900e+03,         nan,         nan, ...,         nan,\n",
       "                nan,         nan],\n",
       "       [1.59910e+03,         nan,         nan, ...,         nan,\n",
       "                nan,         nan],\n",
       "       [1.59920e+03,         nan,         nan, ...,         nan,\n",
       "                nan,         nan]])"
      ]
     },
     "execution_count": 27,
     "metadata": {},
     "output_type": "execute_result"
    }
   ],
   "source": [
    "las.data"
   ]
  },
  {
   "attachments": {},
   "cell_type": "markdown",
   "metadata": {},
   "source": [
    "Or the data can be shown by iterating over the curves."
   ]
  },
  {
   "cell_type": "code",
   "execution_count": 29,
   "metadata": {},
   "outputs": [
    {
     "name": "stdout",
     "output_type": "stream",
     "text": [
      "Curve: DEPT, Units: FT, Data: [1.2000e+00 1.3000e+00 1.4000e+00 ... 1.5990e+03 1.5991e+03 1.5992e+03]\n",
      "Curve: GAM(NAT), Units: API-GR, Data: [nan nan nan ... nan nan nan]\n",
      "Curve: SP, Units: MV, Data: [ nan 32.6 32.9 ...  nan  nan  nan]\n",
      "Curve: RES(16N), Units: OHM-M, Data: [nan nan nan ... nan nan nan]\n",
      "Curve: RES(64N), Units: OHM-M, Data: [nan nan nan ... nan nan nan]\n",
      "Curve: RES, Units: OHM, Data: [nan nan nan ... nan nan nan]\n",
      "Curve: LATERAL, Units: OHM-M, Data: [25005.4 25005.4 25005.4 ...     nan     nan     nan]\n"
     ]
    }
   ],
   "source": [
    "for curve in las.curves:\n",
    "    print(f\"Curve: {curve.mnemonic}, Units: {curve.unit}, Data: {curve.data}\")"
   ]
  },
  {
   "attachments": {},
   "cell_type": "markdown",
   "metadata": {},
   "source": [
    "Modifying value can be performed by `las.SECTION['MNEMONIC']`<br>\n",
    "And other items by `las.HeaderItem.Mnemonic.AttributeName = VALUE`"
   ]
  },
  {
   "cell_type": "code",
   "execution_count": null,
   "metadata": {},
   "outputs": [],
   "source": [
    "# las.well['COMP'] = 'Imperial Oil'\n",
    "print(las.well)"
   ]
  },
  {
   "attachments": {},
   "cell_type": "markdown",
   "metadata": {},
   "source": [
    "Deleting a curve can be performed by `las.delete_curve('MNEMONIC')`.<br>\n",
    "For other items, use `del las.SectionItem[\"ITEM\"]` like removing an item from dictionary."
   ]
  },
  {
   "cell_type": "code",
   "execution_count": null,
   "metadata": {},
   "outputs": [],
   "source": [
    "# las.delete_curve('DLTN')"
   ]
  },
  {
   "attachments": {},
   "cell_type": "markdown",
   "metadata": {},
   "source": [
    "To save, use `las.write('PATH/FILENAME.las')`.\n",
    "Can be exported to other formats such as CSV or XLSX. `las.to_excel('PATH/FILENAME.xlsx')`"
   ]
  },
  {
   "cell_type": "code",
   "execution_count": null,
   "metadata": {},
   "outputs": [],
   "source": [
    "las.write('Exports/test.las')"
   ]
  },
  {
   "attachments": {},
   "cell_type": "markdown",
   "metadata": {},
   "source": [
    "LAS data can be converted to Pandas dataframe. The first curve or the depth will be used for the dataframe's index. (Pandas must be installed)<br>\n",
    "This enables us to plot data and pass the data to machine learning algorithms."
   ]
  },
  {
   "cell_type": "code",
   "execution_count": 30,
   "metadata": {},
   "outputs": [
    {
     "name": "stdout",
     "output_type": "stream",
     "text": [
      "        GAM(NAT)    SP  RES(16N)  RES(64N)  RES  LATERAL\n",
      "DEPT                                                    \n",
      "1.2          NaN   NaN       NaN       NaN  NaN  25005.4\n",
      "1.3          NaN  32.6       NaN       NaN  NaN  25005.4\n",
      "1.4          NaN  32.9       NaN       NaN  NaN  25005.4\n",
      "1.5          NaN  33.0       NaN       NaN  NaN  25005.4\n",
      "1.6          NaN  33.2       NaN       NaN  NaN  25005.4\n",
      "...          ...   ...       ...       ...  ...      ...\n",
      "1598.8       NaN   NaN       NaN       NaN  NaN      NaN\n",
      "1598.9       NaN   NaN       NaN       NaN  NaN      NaN\n",
      "1599.0       NaN   NaN       NaN       NaN  NaN      NaN\n",
      "1599.1       NaN   NaN       NaN       NaN  NaN      NaN\n",
      "1599.2       NaN   NaN       NaN       NaN  NaN      NaN\n",
      "\n",
      "[15981 rows x 6 columns]\n"
     ]
    }
   ],
   "source": [
    "df = las.df()\n",
    "print(df)"
   ]
  },
  {
   "cell_type": "code",
   "execution_count": 31,
   "metadata": {},
   "outputs": [
    {
     "data": {
      "text/html": [
       "<div>\n",
       "<style scoped>\n",
       "    .dataframe tbody tr th:only-of-type {\n",
       "        vertical-align: middle;\n",
       "    }\n",
       "\n",
       "    .dataframe tbody tr th {\n",
       "        vertical-align: top;\n",
       "    }\n",
       "\n",
       "    .dataframe thead th {\n",
       "        text-align: right;\n",
       "    }\n",
       "</style>\n",
       "<table border=\"1\" class=\"dataframe\">\n",
       "  <thead>\n",
       "    <tr style=\"text-align: right;\">\n",
       "      <th></th>\n",
       "      <th>GAM(NAT)</th>\n",
       "      <th>SP</th>\n",
       "      <th>RES(16N)</th>\n",
       "      <th>RES(64N)</th>\n",
       "      <th>RES</th>\n",
       "      <th>LATERAL</th>\n",
       "    </tr>\n",
       "    <tr>\n",
       "      <th>DEPT</th>\n",
       "      <th></th>\n",
       "      <th></th>\n",
       "      <th></th>\n",
       "      <th></th>\n",
       "      <th></th>\n",
       "      <th></th>\n",
       "    </tr>\n",
       "  </thead>\n",
       "  <tbody>\n",
       "    <tr>\n",
       "      <th>1.2</th>\n",
       "      <td>NaN</td>\n",
       "      <td>NaN</td>\n",
       "      <td>NaN</td>\n",
       "      <td>NaN</td>\n",
       "      <td>NaN</td>\n",
       "      <td>25005.4</td>\n",
       "    </tr>\n",
       "    <tr>\n",
       "      <th>1.3</th>\n",
       "      <td>NaN</td>\n",
       "      <td>32.6</td>\n",
       "      <td>NaN</td>\n",
       "      <td>NaN</td>\n",
       "      <td>NaN</td>\n",
       "      <td>25005.4</td>\n",
       "    </tr>\n",
       "    <tr>\n",
       "      <th>1.4</th>\n",
       "      <td>NaN</td>\n",
       "      <td>32.9</td>\n",
       "      <td>NaN</td>\n",
       "      <td>NaN</td>\n",
       "      <td>NaN</td>\n",
       "      <td>25005.4</td>\n",
       "    </tr>\n",
       "    <tr>\n",
       "      <th>1.5</th>\n",
       "      <td>NaN</td>\n",
       "      <td>33.0</td>\n",
       "      <td>NaN</td>\n",
       "      <td>NaN</td>\n",
       "      <td>NaN</td>\n",
       "      <td>25005.4</td>\n",
       "    </tr>\n",
       "    <tr>\n",
       "      <th>1.6</th>\n",
       "      <td>NaN</td>\n",
       "      <td>33.2</td>\n",
       "      <td>NaN</td>\n",
       "      <td>NaN</td>\n",
       "      <td>NaN</td>\n",
       "      <td>25005.4</td>\n",
       "    </tr>\n",
       "  </tbody>\n",
       "</table>\n",
       "</div>"
      ],
      "text/plain": [
       "      GAM(NAT)    SP  RES(16N)  RES(64N)  RES  LATERAL\n",
       "DEPT                                                  \n",
       "1.2        NaN   NaN       NaN       NaN  NaN  25005.4\n",
       "1.3        NaN  32.6       NaN       NaN  NaN  25005.4\n",
       "1.4        NaN  32.9       NaN       NaN  NaN  25005.4\n",
       "1.5        NaN  33.0       NaN       NaN  NaN  25005.4\n",
       "1.6        NaN  33.2       NaN       NaN  NaN  25005.4"
      ]
     },
     "execution_count": 31,
     "metadata": {},
     "output_type": "execute_result"
    }
   ],
   "source": [
    "df.head()"
   ]
  },
  {
   "cell_type": "code",
   "execution_count": 32,
   "metadata": {},
   "outputs": [
    {
     "data": {
      "text/html": [
       "<div>\n",
       "<style scoped>\n",
       "    .dataframe tbody tr th:only-of-type {\n",
       "        vertical-align: middle;\n",
       "    }\n",
       "\n",
       "    .dataframe tbody tr th {\n",
       "        vertical-align: top;\n",
       "    }\n",
       "\n",
       "    .dataframe thead th {\n",
       "        text-align: right;\n",
       "    }\n",
       "</style>\n",
       "<table border=\"1\" class=\"dataframe\">\n",
       "  <thead>\n",
       "    <tr style=\"text-align: right;\">\n",
       "      <th></th>\n",
       "      <th>GAM(NAT)</th>\n",
       "      <th>SP</th>\n",
       "      <th>RES(16N)</th>\n",
       "      <th>RES(64N)</th>\n",
       "      <th>RES</th>\n",
       "      <th>LATERAL</th>\n",
       "    </tr>\n",
       "  </thead>\n",
       "  <tbody>\n",
       "    <tr>\n",
       "      <th>count</th>\n",
       "      <td>15919.000000</td>\n",
       "      <td>15909.000000</td>\n",
       "      <td>15909.000000</td>\n",
       "      <td>15909.000000</td>\n",
       "      <td>15909.000000</td>\n",
       "      <td>15910.000000</td>\n",
       "    </tr>\n",
       "    <tr>\n",
       "      <th>mean</th>\n",
       "      <td>57.938752</td>\n",
       "      <td>45.497605</td>\n",
       "      <td>30.469816</td>\n",
       "      <td>45.016701</td>\n",
       "      <td>24.855447</td>\n",
       "      <td>25025.823268</td>\n",
       "    </tr>\n",
       "    <tr>\n",
       "      <th>std</th>\n",
       "      <td>16.534755</td>\n",
       "      <td>49.186084</td>\n",
       "      <td>24.669817</td>\n",
       "      <td>59.810041</td>\n",
       "      <td>7.094554</td>\n",
       "      <td>18.657828</td>\n",
       "    </tr>\n",
       "    <tr>\n",
       "      <th>min</th>\n",
       "      <td>11.600000</td>\n",
       "      <td>-101.600000</td>\n",
       "      <td>4.100000</td>\n",
       "      <td>3.700000</td>\n",
       "      <td>13.000000</td>\n",
       "      <td>25000.900000</td>\n",
       "    </tr>\n",
       "    <tr>\n",
       "      <th>25%</th>\n",
       "      <td>48.100000</td>\n",
       "      <td>30.500000</td>\n",
       "      <td>10.900000</td>\n",
       "      <td>13.200000</td>\n",
       "      <td>19.000000</td>\n",
       "      <td>25009.900000</td>\n",
       "    </tr>\n",
       "    <tr>\n",
       "      <th>50%</th>\n",
       "      <td>58.300000</td>\n",
       "      <td>53.200000</td>\n",
       "      <td>21.800000</td>\n",
       "      <td>24.800000</td>\n",
       "      <td>24.000000</td>\n",
       "      <td>25020.300000</td>\n",
       "    </tr>\n",
       "    <tr>\n",
       "      <th>75%</th>\n",
       "      <td>68.000000</td>\n",
       "      <td>79.600000</td>\n",
       "      <td>42.100000</td>\n",
       "      <td>52.800000</td>\n",
       "      <td>29.900000</td>\n",
       "      <td>25037.675000</td>\n",
       "    </tr>\n",
       "    <tr>\n",
       "      <th>max</th>\n",
       "      <td>147.100000</td>\n",
       "      <td>197.200000</td>\n",
       "      <td>147.100000</td>\n",
       "      <td>572.000000</td>\n",
       "      <td>50.700000</td>\n",
       "      <td>25131.600000</td>\n",
       "    </tr>\n",
       "  </tbody>\n",
       "</table>\n",
       "</div>"
      ],
      "text/plain": [
       "           GAM(NAT)            SP      RES(16N)      RES(64N)           RES  \\\n",
       "count  15919.000000  15909.000000  15909.000000  15909.000000  15909.000000   \n",
       "mean      57.938752     45.497605     30.469816     45.016701     24.855447   \n",
       "std       16.534755     49.186084     24.669817     59.810041      7.094554   \n",
       "min       11.600000   -101.600000      4.100000      3.700000     13.000000   \n",
       "25%       48.100000     30.500000     10.900000     13.200000     19.000000   \n",
       "50%       58.300000     53.200000     21.800000     24.800000     24.000000   \n",
       "75%       68.000000     79.600000     42.100000     52.800000     29.900000   \n",
       "max      147.100000    197.200000    147.100000    572.000000     50.700000   \n",
       "\n",
       "            LATERAL  \n",
       "count  15910.000000  \n",
       "mean   25025.823268  \n",
       "std       18.657828  \n",
       "min    25000.900000  \n",
       "25%    25009.900000  \n",
       "50%    25020.300000  \n",
       "75%    25037.675000  \n",
       "max    25131.600000  "
      ]
     },
     "execution_count": 32,
     "metadata": {},
     "output_type": "execute_result"
    }
   ],
   "source": [
    "df.describe()"
   ]
  },
  {
   "attachments": {},
   "cell_type": "markdown",
   "metadata": {},
   "source": [
    "`df.info()` shows how many null values are present."
   ]
  },
  {
   "cell_type": "code",
   "execution_count": 33,
   "metadata": {},
   "outputs": [
    {
     "name": "stdout",
     "output_type": "stream",
     "text": [
      "<class 'pandas.core.frame.DataFrame'>\n",
      "Index: 15981 entries, 1.2 to 1599.2\n",
      "Data columns (total 6 columns):\n",
      " #   Column    Non-Null Count  Dtype  \n",
      "---  ------    --------------  -----  \n",
      " 0   GAM(NAT)  15919 non-null  float64\n",
      " 1   SP        15909 non-null  float64\n",
      " 2   RES(16N)  15909 non-null  float64\n",
      " 3   RES(64N)  15909 non-null  float64\n",
      " 4   RES       15909 non-null  float64\n",
      " 5   LATERAL   15910 non-null  float64\n",
      "dtypes: float64(6)\n",
      "memory usage: 874.0 KB\n"
     ]
    }
   ],
   "source": [
    "df.info()"
   ]
  },
  {
   "attachments": {},
   "cell_type": "markdown",
   "metadata": {},
   "source": [
    "All curves can be plotted on a single plot using Pandas plot funtion `df.plot()` (not useful).<br>\n",
    "It is more useful to plot single curves.\n"
   ]
  },
  {
   "cell_type": "code",
   "execution_count": 34,
   "metadata": {},
   "outputs": [
    {
     "data": {
      "text/plain": [
       "<Axes: xlabel='DEPT'>"
      ]
     },
     "execution_count": 34,
     "metadata": {},
     "output_type": "execute_result"
    },
    {
     "data": {
      "image/png": "[encoded data removed]",
      "text/plain": [
       "<Figure size 640x480 with 1 Axes>"
      ]
     },
     "metadata": {},
     "output_type": "display_data"
    }
   ],
   "source": [
    "df.plot(y='SP')"
   ]
  }
 ],
 "metadata": {
  "kernelspec": {
   "display_name": "Python 3",
   "language": "python",
   "name": "python3"
  },
  "language_info": {
   "codemirror_mode": {
    "name": "ipython",
    "version": 3
   },
   "file_extension": ".py",
   "mimetype": "text/x-python",
   "name": "python",
   "nbconvert_exporter": "python",
   "pygments_lexer": "ipython3",
   "version": "3.11.3"
  },
  "orig_nbformat": 4
 },
 "nbformat": 4,
 "nbformat_minor": 2
}
