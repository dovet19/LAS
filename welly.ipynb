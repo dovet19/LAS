{
 "cells": [
  {
   "attachments": {},
   "cell_type": "markdown",
   "metadata": {},
   "source": [
    "# Reading and Parsing LAS File Using Welly"
   ]
  },
  {
   "attachments": {},
   "cell_type": "markdown",
   "metadata": {},
   "source": [
    "Docs: https://code.agilescientific.com/welly/"
   ]
  },
  {
   "cell_type": "code",
   "execution_count": 2,
   "metadata": {},
   "outputs": [],
   "source": [
    "import welly"
   ]
  },
  {
   "attachments": {},
   "cell_type": "markdown",
   "metadata": {},
   "source": [
    "`welly.read_las()` creates a project containing one or more wells. If the project contains more than one well, it can be accessed by `project[#]`."
   ]
  },
  {
   "cell_type": "code",
   "execution_count": 6,
   "metadata": {},
   "outputs": [
    {
     "name": "stderr",
     "output_type": "stream",
     "text": [
      "0it [00:00, ?it/s]Only engine='normal' can read wrapped files\n",
      "1it [00:00,  3.19it/s]\n"
     ]
    },
    {
     "data": {
      "text/html": [
       "<table><tr><th style=\"text-align:center;\" colspan=\"2\">SMBC39<br><small></small></th></tr><tr><td><strong>crs</strong></td><td>CRS({})</td></tr><tr><td><strong>location</strong></td><td>None  None  None</td></tr><tr><td><strong>state</strong></td><td>Md.</td></tr><tr><td><strong>county</strong></td><td>St. Mary's</td></tr><tr><td><strong>ekb</strong></td><td>None</td></tr><tr><td><strong>egl</strong></td><td>None</td></tr><tr><td><strong>td</strong></td><td>None</td></tr><tr><td><strong>data</strong></td><td>GAM(NAT), LATERAL, RES, RES(16N), RES(64N), SP</td></tr></table>"
      ],
      "text/plain": [
       "Well(uwi: '', name: 'SMBC39', 6 curves: ['GAM(NAT)', 'SP', 'RES(16N)', 'RES(64N)', 'RES', 'LATERAL'])"
      ]
     },
     "execution_count": 6,
     "metadata": {},
     "output_type": "execute_result"
    },
    {
     "ename": "",
     "evalue": "",
     "output_type": "error",
     "traceback": [
      "\u001b[1;31mThe Kernel crashed while executing code in the the current cell or a previous cell. Please review the code in the cell(s) to identify a possible cause of the failure. Click <a href='https://aka.ms/vscodeJupyterKernelCrash'>here</a> for more info. View Jupyter <a href='command:jupyter.viewOutput'>log</a> for further details."
     ]
    }
   ],
   "source": [
    "project = welly.read_las('Data/382605076430201.20020311.ZH.las')\n",
    "well = project[0]\n",
    "well"
   ]
  },
  {
   "attachments": {},
   "cell_type": "markdown",
   "metadata": {},
   "source": [
    "### Data Exploration"
   ]
  },
  {
   "attachments": {},
   "cell_type": "markdown",
   "metadata": {},
   "source": [
    "`header` contains well information from WELL part of the LAS file."
   ]
  },
  {
   "cell_type": "code",
   "execution_count": 45,
   "metadata": {},
   "outputs": [
    {
     "data": {
      "text/html": [
       "<div>\n",
       "<style scoped>\n",
       "    .dataframe tbody tr th:only-of-type {\n",
       "        vertical-align: middle;\n",
       "    }\n",
       "\n",
       "    .dataframe tbody tr th {\n",
       "        vertical-align: top;\n",
       "    }\n",
       "\n",
       "    .dataframe thead th {\n",
       "        text-align: right;\n",
       "    }\n",
       "</style>\n",
       "<table border=\"1\" class=\"dataframe\">\n",
       "  <thead>\n",
       "    <tr style=\"text-align: right;\">\n",
       "      <th></th>\n",
       "      <th>original_mnemonic</th>\n",
       "      <th>mnemonic</th>\n",
       "      <th>unit</th>\n",
       "      <th>value</th>\n",
       "      <th>descr</th>\n",
       "      <th>section</th>\n",
       "    </tr>\n",
       "  </thead>\n",
       "  <tbody>\n",
       "    <tr>\n",
       "      <th>0</th>\n",
       "      <td>VERS</td>\n",
       "      <td>VERS</td>\n",
       "      <td></td>\n",
       "      <td>2.0</td>\n",
       "      <td>CWLS LOG ASCII STANDARD -VERSION 2.0</td>\n",
       "      <td>Version</td>\n",
       "    </tr>\n",
       "    <tr>\n",
       "      <th>1</th>\n",
       "      <td>STRT</td>\n",
       "      <td>STRT</td>\n",
       "      <td>FT</td>\n",
       "      <td>1.2</td>\n",
       "      <td>START DEPTH</td>\n",
       "      <td>Well</td>\n",
       "    </tr>\n",
       "    <tr>\n",
       "      <th>2</th>\n",
       "      <td>STOP</td>\n",
       "      <td>STOP</td>\n",
       "      <td>FT</td>\n",
       "      <td>1599.2</td>\n",
       "      <td>STOP DEPTH</td>\n",
       "      <td>Well</td>\n",
       "    </tr>\n",
       "    <tr>\n",
       "      <th>3</th>\n",
       "      <td>STEP</td>\n",
       "      <td>STEP</td>\n",
       "      <td>FT</td>\n",
       "      <td>0.1</td>\n",
       "      <td>STEP    UP_HOLE</td>\n",
       "      <td>Well</td>\n",
       "    </tr>\n",
       "    <tr>\n",
       "      <th>4</th>\n",
       "      <td>NULL</td>\n",
       "      <td>NULL</td>\n",
       "      <td></td>\n",
       "      <td>-999.25</td>\n",
       "      <td>NULL VALUE</td>\n",
       "      <td>Well</td>\n",
       "    </tr>\n",
       "    <tr>\n",
       "      <th>...</th>\n",
       "      <td>...</td>\n",
       "      <td>...</td>\n",
       "      <td>...</td>\n",
       "      <td>...</td>\n",
       "      <td>...</td>\n",
       "      <td>...</td>\n",
       "    </tr>\n",
       "    <tr>\n",
       "      <th>65</th>\n",
       "      <td>FD</td>\n",
       "      <td>FD</td>\n",
       "      <td>K/M3</td>\n",
       "      <td></td>\n",
       "      <td>Fluid Density</td>\n",
       "      <td>Parameter</td>\n",
       "    </tr>\n",
       "    <tr>\n",
       "      <th>66</th>\n",
       "      <td>DFV</td>\n",
       "      <td>DFV</td>\n",
       "      <td>S</td>\n",
       "      <td></td>\n",
       "      <td>Fluid Viscosity</td>\n",
       "      <td>Parameter</td>\n",
       "    </tr>\n",
       "    <tr>\n",
       "      <th>67</th>\n",
       "      <td>FPH</td>\n",
       "      <td>FPH</td>\n",
       "      <td></td>\n",
       "      <td></td>\n",
       "      <td>Fuild PH</td>\n",
       "      <td>Parameter</td>\n",
       "    </tr>\n",
       "    <tr>\n",
       "      <th>68</th>\n",
       "      <td>ELCO</td>\n",
       "      <td>ELCO</td>\n",
       "      <td></td>\n",
       "      <td>2500</td>\n",
       "      <td>Electron Cutoff</td>\n",
       "      <td>Parameter</td>\n",
       "    </tr>\n",
       "    <tr>\n",
       "      <th>69</th>\n",
       "      <td></td>\n",
       "      <td>UNKNOWN</td>\n",
       "      <td></td>\n",
       "      <td></td>\n",
       "      <td>#MNEM.UNIT  Information      Description\\n#---...</td>\n",
       "      <td>Other</td>\n",
       "    </tr>\n",
       "  </tbody>\n",
       "</table>\n",
       "<p>70 rows × 6 columns</p>\n",
       "</div>"
      ],
      "text/plain": [
       "   original_mnemonic mnemonic  unit   value  \\\n",
       "0               VERS     VERS           2.0   \n",
       "1               STRT     STRT    FT     1.2   \n",
       "2               STOP     STOP    FT  1599.2   \n",
       "3               STEP     STEP    FT     0.1   \n",
       "4               NULL     NULL       -999.25   \n",
       "..               ...      ...   ...     ...   \n",
       "65                FD       FD  K/M3           \n",
       "66               DFV      DFV     S           \n",
       "67               FPH      FPH                 \n",
       "68              ELCO     ELCO          2500   \n",
       "69                    UNKNOWN                 \n",
       "\n",
       "                                                descr    section  \n",
       "0                CWLS LOG ASCII STANDARD -VERSION 2.0    Version  \n",
       "1                                         START DEPTH       Well  \n",
       "2                                          STOP DEPTH       Well  \n",
       "3                                     STEP    UP_HOLE       Well  \n",
       "4                                          NULL VALUE       Well  \n",
       "..                                                ...        ...  \n",
       "65                                      Fluid Density  Parameter  \n",
       "66                                    Fluid Viscosity  Parameter  \n",
       "67                                           Fuild PH  Parameter  \n",
       "68                                    Electron Cutoff  Parameter  \n",
       "69  #MNEM.UNIT  Information      Description\\n#---...      Other  \n",
       "\n",
       "[70 rows x 6 columns]"
      ]
     },
     "execution_count": 45,
     "metadata": {},
     "output_type": "execute_result"
    }
   ],
   "source": [
    "well.header"
   ]
  },
  {
   "attachments": {},
   "cell_type": "markdown",
   "metadata": {},
   "source": [
    "`location` contains location information and each item can be accessed by `well.location.ItemName`"
   ]
  },
  {
   "cell_type": "code",
   "execution_count": null,
   "metadata": {},
   "outputs": [],
   "source": [
    "well.location\n",
    "# well.location.state"
   ]
  },
  {
   "cell_type": "code",
   "execution_count": 44,
   "metadata": {},
   "outputs": [
    {
     "name": "stderr",
     "output_type": "stream",
     "text": [
      "c:\\Users\\haebi\\AppData\\Local\\Programs\\Python\\Python311\\Lib\\site-packages\\welly\\curve.py:470: FutureWarning: Index.is_numeric is deprecated. Use pandas.api.types.is_any_real_numeric_dtype instead\n",
      "  if self.df.index.is_numeric() and not self.df.index.empty:\n",
      "c:\\Users\\haebi\\AppData\\Local\\Programs\\Python\\Python311\\Lib\\site-packages\\welly\\curve.py:470: FutureWarning: Index.is_numeric is deprecated. Use pandas.api.types.is_any_real_numeric_dtype instead\n",
      "  if self.df.index.is_numeric() and not self.df.index.empty:\n",
      "c:\\Users\\haebi\\AppData\\Local\\Programs\\Python\\Python311\\Lib\\site-packages\\welly\\curve.py:470: FutureWarning: Index.is_numeric is deprecated. Use pandas.api.types.is_any_real_numeric_dtype instead\n",
      "  if self.df.index.is_numeric() and not self.df.index.empty:\n",
      "c:\\Users\\haebi\\AppData\\Local\\Programs\\Python\\Python311\\Lib\\site-packages\\welly\\curve.py:470: FutureWarning: Index.is_numeric is deprecated. Use pandas.api.types.is_any_real_numeric_dtype instead\n",
      "  if self.df.index.is_numeric() and not self.df.index.empty:\n",
      "c:\\Users\\haebi\\AppData\\Local\\Programs\\Python\\Python311\\Lib\\site-packages\\welly\\curve.py:470: FutureWarning: Index.is_numeric is deprecated. Use pandas.api.types.is_any_real_numeric_dtype instead\n",
      "  if self.df.index.is_numeric() and not self.df.index.empty:\n",
      "c:\\Users\\haebi\\AppData\\Local\\Programs\\Python\\Python311\\Lib\\site-packages\\welly\\curve.py:470: FutureWarning: Index.is_numeric is deprecated. Use pandas.api.types.is_any_real_numeric_dtype instead\n",
      "  if self.df.index.is_numeric() and not self.df.index.empty:\n"
     ]
    },
    {
     "data": {
      "text/plain": [
       "{'GAM(NAT)': Curve(mnemonic=GAM(NAT), units=API-GR, start=1.2000, stop=1599.2000, step=0.1000, count=[15919]),\n",
       " 'SP': Curve(mnemonic=SP, units=MV, start=1.2000, stop=1599.2000, step=0.1000, count=[15909]),\n",
       " 'RES(16N)': Curve(mnemonic=RES(16N), units=OHM-M, start=1.2000, stop=1599.2000, step=0.1000, count=[15909]),\n",
       " 'RES(64N)': Curve(mnemonic=RES(64N), units=OHM-M, start=1.2000, stop=1599.2000, step=0.1000, count=[15909]),\n",
       " 'RES': Curve(mnemonic=RES, units=OHM, start=1.2000, stop=1599.2000, step=0.1000, count=[15909]),\n",
       " 'LATERAL': Curve(mnemonic=LATERAL, units=OHM-M, start=1.2000, stop=1599.2000, step=0.1000, count=[15910])}"
      ]
     },
     "execution_count": 44,
     "metadata": {},
     "output_type": "execute_result"
    }
   ],
   "source": [
    "well.data"
   ]
  },
  {
   "attachments": {},
   "cell_type": "markdown",
   "metadata": {},
   "source": [
    "The curve can be read at any depth from interpolation even if there is no entry at that exact depth."
   ]
  },
  {
   "cell_type": "code",
   "execution_count": 52,
   "metadata": {},
   "outputs": [
    {
     "name": "stderr",
     "output_type": "stream",
     "text": [
      "c:\\Users\\haebi\\AppData\\Local\\Programs\\Python\\Python311\\Lib\\site-packages\\welly\\curve.py:470: FutureWarning: Index.is_numeric is deprecated. Use pandas.api.types.is_any_real_numeric_dtype instead\n",
      "  if self.df.index.is_numeric() and not self.df.index.empty:\n",
      "c:\\Users\\haebi\\AppData\\Local\\Programs\\Python\\Python311\\Lib\\site-packages\\welly\\curve.py:470: FutureWarning: Index.is_numeric is deprecated. Use pandas.api.types.is_any_real_numeric_dtype instead\n",
      "  if self.df.index.is_numeric() and not self.df.index.empty:\n"
     ]
    },
    {
     "data": {
      "text/html": [
       "<table><tr><th style=\"text-align:center;\" colspan=\"2\">SP [MV]</th></tr><tr><td style=\"text-align:center;\" colspan=\"2\">1.2000 : 1599.2000 : 0.1000</td></tr><tr><td><strong>index_units</strong></td><td>FT</td></tr><tr><td><strong>code</strong></td><td>None</td></tr><tr><td><strong>description</strong></td><td>3                   SP</td></tr><tr><td><strong>log_type</strong></td><td>None</td></tr><tr><td><strong>api</strong></td><td>None</td></tr><tr><td><strong>date</strong></td><td>03/11/02</td></tr><tr><td><strong>null</strong></td><td>-999.25</td></tr><tr><td><strong>run</strong></td><td>None</td></tr><tr><td><strong>service_company</strong></td><td>None</td></tr><tr><th style=\"border-top: 2px solid #000; text-align:center;\" colspan=\"2\"><strong>Stats</strong></th></tr><tr><td><strong>samples (NaNs)</strong></td><td>15981 (72)</td></tr><tr><td><strong><sub>min</sub> mean <sup>max</sup></strong></td><td><sub>-101.60</sub> 45.498 <sup>197.20</sup></td></tr><tr><th style=\"border-top: 2px solid #000;\">Depth</th><th style=\"border-top: 2px solid #000;\">Value</th></tr><tr><td>1.2000</td><td>nan</td></tr><tr><td>1.3000</td><td>32.6000</td></tr><tr><td>1.4000</td><td>32.9000</td></tr><tr><td>⋮</td><td>⋮</td></tr><tr><td>1599.0000</td><td>nan</td></tr><tr><td>1599.1000</td><td>nan</td></tr><tr><td>1599.2000</td><td>nan</td></tr></table>"
      ],
      "text/plain": [
       "Curve(mnemonic=SP, units=MV, start=1.2000, stop=1599.2000, step=0.1000, count=[15909])"
      ]
     },
     "execution_count": 52,
     "metadata": {},
     "output_type": "execute_result"
    }
   ],
   "source": [
    "sp = well.data['SP']\n",
    "\n",
    "sp.read_at([1000, 1100, 1200, 1300, 1400])"
   ]
  },
  {
   "cell_type": "code",
   "execution_count": null,
   "metadata": {},
   "outputs": [],
   "source": [
    "sp[1250:1300]"
   ]
  },
  {
   "attachments": {},
   "cell_type": "markdown",
   "metadata": {},
   "source": [
    "A statistical description is shown by `describe()` or `get_stats()`."
   ]
  },
  {
   "cell_type": "code",
   "execution_count": 42,
   "metadata": {},
   "outputs": [
    {
     "data": {
      "text/html": [
       "<div>\n",
       "<style scoped>\n",
       "    .dataframe tbody tr th:only-of-type {\n",
       "        vertical-align: middle;\n",
       "    }\n",
       "\n",
       "    .dataframe tbody tr th {\n",
       "        vertical-align: top;\n",
       "    }\n",
       "\n",
       "    .dataframe thead th {\n",
       "        text-align: right;\n",
       "    }\n",
       "</style>\n",
       "<table border=\"1\" class=\"dataframe\">\n",
       "  <thead>\n",
       "    <tr style=\"text-align: right;\">\n",
       "      <th></th>\n",
       "      <th>SP</th>\n",
       "    </tr>\n",
       "  </thead>\n",
       "  <tbody>\n",
       "    <tr>\n",
       "      <th>count</th>\n",
       "      <td>15909.0000000000</td>\n",
       "    </tr>\n",
       "    <tr>\n",
       "      <th>mean</th>\n",
       "      <td>45.4976051292</td>\n",
       "    </tr>\n",
       "    <tr>\n",
       "      <th>std</th>\n",
       "      <td>49.1860840062</td>\n",
       "    </tr>\n",
       "    <tr>\n",
       "      <th>min</th>\n",
       "      <td>-101.6000000000</td>\n",
       "    </tr>\n",
       "    <tr>\n",
       "      <th>25%</th>\n",
       "      <td>30.5000000000</td>\n",
       "    </tr>\n",
       "    <tr>\n",
       "      <th>50%</th>\n",
       "      <td>53.2000000000</td>\n",
       "    </tr>\n",
       "    <tr>\n",
       "      <th>75%</th>\n",
       "      <td>79.6000000000</td>\n",
       "    </tr>\n",
       "    <tr>\n",
       "      <th>max</th>\n",
       "      <td>197.2000000000</td>\n",
       "    </tr>\n",
       "  </tbody>\n",
       "</table>\n",
       "</div>"
      ],
      "text/plain": [
       "                     SP\n",
       "count  15909.0000000000\n",
       "mean      45.4976051292\n",
       "std       49.1860840062\n",
       "min     -101.6000000000\n",
       "25%       30.5000000000\n",
       "50%       53.2000000000\n",
       "75%       79.6000000000\n",
       "max      197.2000000000"
      ]
     },
     "execution_count": 42,
     "metadata": {},
     "output_type": "execute_result"
    }
   ],
   "source": [
    "sp.describe()\n",
    "# sp.get_stats()"
   ]
  },
  {
   "attachments": {},
   "cell_type": "markdown",
   "metadata": {},
   "source": [
    "Combining the above two methods, we can obtain a statistical description from the depths of our interest."
   ]
  },
  {
   "cell_type": "code",
   "execution_count": 43,
   "metadata": {},
   "outputs": [
    {
     "data": {
      "text/html": [
       "<div>\n",
       "<style scoped>\n",
       "    .dataframe tbody tr th:only-of-type {\n",
       "        vertical-align: middle;\n",
       "    }\n",
       "\n",
       "    .dataframe tbody tr th {\n",
       "        vertical-align: top;\n",
       "    }\n",
       "\n",
       "    .dataframe thead th {\n",
       "        text-align: right;\n",
       "    }\n",
       "</style>\n",
       "<table border=\"1\" class=\"dataframe\">\n",
       "  <thead>\n",
       "    <tr style=\"text-align: right;\">\n",
       "      <th></th>\n",
       "      <th>SP</th>\n",
       "    </tr>\n",
       "  </thead>\n",
       "  <tbody>\n",
       "    <tr>\n",
       "      <th>count</th>\n",
       "      <td>501.0000000000</td>\n",
       "    </tr>\n",
       "    <tr>\n",
       "      <th>mean</th>\n",
       "      <td>-28.5437125749</td>\n",
       "    </tr>\n",
       "    <tr>\n",
       "      <th>std</th>\n",
       "      <td>4.7146437182</td>\n",
       "    </tr>\n",
       "    <tr>\n",
       "      <th>min</th>\n",
       "      <td>-37.0000000000</td>\n",
       "    </tr>\n",
       "    <tr>\n",
       "      <th>25%</th>\n",
       "      <td>-32.8000000000</td>\n",
       "    </tr>\n",
       "    <tr>\n",
       "      <th>50%</th>\n",
       "      <td>-28.9000000000</td>\n",
       "    </tr>\n",
       "    <tr>\n",
       "      <th>75%</th>\n",
       "      <td>-24.1000000000</td>\n",
       "    </tr>\n",
       "    <tr>\n",
       "      <th>max</th>\n",
       "      <td>-20.5000000000</td>\n",
       "    </tr>\n",
       "  </tbody>\n",
       "</table>\n",
       "</div>"
      ],
      "text/plain": [
       "                   SP\n",
       "count  501.0000000000\n",
       "mean   -28.5437125749\n",
       "std      4.7146437182\n",
       "min    -37.0000000000\n",
       "25%    -32.8000000000\n",
       "50%    -28.9000000000\n",
       "75%    -24.1000000000\n",
       "max    -20.5000000000"
      ]
     },
     "execution_count": 43,
     "metadata": {},
     "output_type": "execute_result"
    }
   ],
   "source": [
    "sp[1250:1300].describe()"
   ]
  },
  {
   "attachments": {},
   "cell_type": "markdown",
   "metadata": {},
   "source": [
    "### Data Processing"
   ]
  },
  {
   "attachments": {},
   "cell_type": "markdown",
   "metadata": {},
   "source": [
    "If there are some missing data inside the well information such as location, EGL, and EKB, it can be added manually."
   ]
  },
  {
   "cell_type": "code",
   "execution_count": 48,
   "metadata": {},
   "outputs": [
    {
     "data": {
      "text/plain": [
       "Location({'position': None, 'crs': CRS({}), 'location': 'None  None  None', 'state': 'Md.', 'county': \"St. Mary's\", 'ekb': None, 'egl': 90.3, 'td': None, 'deviation': None})"
      ]
     },
     "execution_count": 48,
     "metadata": {},
     "output_type": "execute_result"
    }
   ],
   "source": [
    "well.location.egl = 90.3\n",
    "well.location"
   ]
  },
  {
   "attachments": {},
   "cell_type": "markdown",
   "metadata": {},
   "source": [
    "We can perform basic mathematical operations on the curves. Combined with methods such as  `mean()`, `median()`, `min()`, and `max()`, we can process the data."
   ]
  },
  {
   "cell_type": "code",
   "execution_count": 50,
   "metadata": {},
   "outputs": [
    {
     "name": "stderr",
     "output_type": "stream",
     "text": [
      "c:\\Users\\haebi\\AppData\\Local\\Programs\\Python\\Python311\\Lib\\site-packages\\welly\\curve.py:470: FutureWarning: Index.is_numeric is deprecated. Use pandas.api.types.is_any_real_numeric_dtype instead\n",
      "  if self.df.index.is_numeric() and not self.df.index.empty:\n",
      "c:\\Users\\haebi\\AppData\\Local\\Programs\\Python\\Python311\\Lib\\site-packages\\welly\\curve.py:470: FutureWarning: Index.is_numeric is deprecated. Use pandas.api.types.is_any_real_numeric_dtype instead\n",
      "  if self.df.index.is_numeric() and not self.df.index.empty:\n"
     ]
    },
    {
     "data": {
      "text/html": [
       "<table><tr><th style=\"text-align:center;\" colspan=\"2\">SP [MV]</th></tr><tr><td style=\"text-align:center;\" colspan=\"2\">1.2000 : 1599.2000 : 0.1000</td></tr><tr><td><strong>index_units</strong></td><td>FT</td></tr><tr><td><strong>code</strong></td><td>None</td></tr><tr><td><strong>description</strong></td><td>3                   SP</td></tr><tr><td><strong>log_type</strong></td><td>None</td></tr><tr><td><strong>api</strong></td><td>None</td></tr><tr><td><strong>date</strong></td><td>03/11/02</td></tr><tr><td><strong>null</strong></td><td>-999.25</td></tr><tr><td><strong>run</strong></td><td>None</td></tr><tr><td><strong>service_company</strong></td><td>None</td></tr><tr><th style=\"border-top: 2px solid #000; text-align:center;\" colspan=\"2\"><strong>Stats</strong></th></tr><tr><td><strong>samples (NaNs)</strong></td><td>15981 (72)</td></tr><tr><td><strong><sub>min</sub> mean <sup>max</sup></strong></td><td><sub>-2.23</sub> 1.000 <sup>4.33</sup></td></tr><tr><th style=\"border-top: 2px solid #000;\">Depth</th><th style=\"border-top: 2px solid #000;\">Value</th></tr><tr><td>1.2000</td><td>nan</td></tr><tr><td>1.3000</td><td>0.7165</td></tr><tr><td>1.4000</td><td>0.7231</td></tr><tr><td>⋮</td><td>⋮</td></tr><tr><td>1599.0000</td><td>nan</td></tr><tr><td>1599.1000</td><td>nan</td></tr><tr><td>1599.2000</td><td>nan</td></tr></table>"
      ],
      "text/plain": [
       "Curve(mnemonic=SP, units=MV, start=1.2000, stop=1599.2000, step=0.1000, count=[15909])"
      ]
     },
     "execution_count": 50,
     "metadata": {},
     "output_type": "execute_result"
    }
   ],
   "source": [
    "sp / sp.mean()"
   ]
  },
  {
   "attachments": {},
   "cell_type": "markdown",
   "metadata": {},
   "source": [
    "LAS data can be converted to Pandas dataframe. The first curve or the depth will be used for the dataframe's index. (Pandas must be installed)<br>\n",
    "This enables us to plot data and pass the data to machine learning algorithms."
   ]
  },
  {
   "cell_type": "code",
   "execution_count": 55,
   "metadata": {},
   "outputs": [
    {
     "name": "stderr",
     "output_type": "stream",
     "text": [
      "c:\\Users\\haebi\\AppData\\Local\\Programs\\Python\\Python311\\Lib\\site-packages\\welly\\curve.py:470: FutureWarning: Index.is_numeric is deprecated. Use pandas.api.types.is_any_real_numeric_dtype instead\n",
      "  if self.df.index.is_numeric() and not self.df.index.empty:\n"
     ]
    },
    {
     "data": {
      "text/html": [
       "<div>\n",
       "<style scoped>\n",
       "    .dataframe tbody tr th:only-of-type {\n",
       "        vertical-align: middle;\n",
       "    }\n",
       "\n",
       "    .dataframe tbody tr th {\n",
       "        vertical-align: top;\n",
       "    }\n",
       "\n",
       "    .dataframe thead th {\n",
       "        text-align: right;\n",
       "    }\n",
       "</style>\n",
       "<table border=\"1\" class=\"dataframe\">\n",
       "  <thead>\n",
       "    <tr style=\"text-align: right;\">\n",
       "      <th></th>\n",
       "      <th>GAM(NAT)</th>\n",
       "      <th>SP</th>\n",
       "      <th>RES(16N)</th>\n",
       "      <th>RES(64N)</th>\n",
       "      <th>RES</th>\n",
       "      <th>LATERAL</th>\n",
       "    </tr>\n",
       "  </thead>\n",
       "  <tbody>\n",
       "    <tr>\n",
       "      <th>count</th>\n",
       "      <td>15918.0000000000</td>\n",
       "      <td>15908.0000000000</td>\n",
       "      <td>15908.0000000000</td>\n",
       "      <td>15908.0000000000</td>\n",
       "      <td>15908.0000000000</td>\n",
       "      <td>15909.0000000000</td>\n",
       "    </tr>\n",
       "    <tr>\n",
       "      <th>mean</th>\n",
       "      <td>57.9374041965</td>\n",
       "      <td>45.4881254715</td>\n",
       "      <td>30.4707568519</td>\n",
       "      <td>45.0186949962</td>\n",
       "      <td>24.8556889615</td>\n",
       "      <td>25025.8240115658</td>\n",
       "    </tr>\n",
       "    <tr>\n",
       "      <th>std</th>\n",
       "      <td>16.5343995923</td>\n",
       "      <td>49.1730944063</td>\n",
       "      <td>24.6703069910</td>\n",
       "      <td>59.8113927544</td>\n",
       "      <td>7.0947108951</td>\n",
       "      <td>18.6581792919</td>\n",
       "    </tr>\n",
       "    <tr>\n",
       "      <th>min</th>\n",
       "      <td>11.6000000001</td>\n",
       "      <td>-101.5999999997</td>\n",
       "      <td>4.1000000000</td>\n",
       "      <td>3.7000000000</td>\n",
       "      <td>13.0000000003</td>\n",
       "      <td>25000.9000000000</td>\n",
       "    </tr>\n",
       "    <tr>\n",
       "      <th>25%</th>\n",
       "      <td>48.0999999996</td>\n",
       "      <td>30.5000000000</td>\n",
       "      <td>10.8999999998</td>\n",
       "      <td>13.1999999997</td>\n",
       "      <td>18.9999999997</td>\n",
       "      <td>25009.9000000006</td>\n",
       "    </tr>\n",
       "    <tr>\n",
       "      <th>50%</th>\n",
       "      <td>58.2999999997</td>\n",
       "      <td>53.2000000000</td>\n",
       "      <td>21.8000000001</td>\n",
       "      <td>24.8000000012</td>\n",
       "      <td>23.9999999997</td>\n",
       "      <td>25020.3000000001</td>\n",
       "    </tr>\n",
       "    <tr>\n",
       "      <th>75%</th>\n",
       "      <td>67.9999999989</td>\n",
       "      <td>79.6000000000</td>\n",
       "      <td>42.1000000004</td>\n",
       "      <td>52.8000000000</td>\n",
       "      <td>29.9000000001</td>\n",
       "      <td>25037.6999999992</td>\n",
       "    </tr>\n",
       "    <tr>\n",
       "      <th>max</th>\n",
       "      <td>147.0999999973</td>\n",
       "      <td>197.1999999996</td>\n",
       "      <td>147.0999999998</td>\n",
       "      <td>571.9999999996</td>\n",
       "      <td>50.7000000000</td>\n",
       "      <td>25131.5999999999</td>\n",
       "    </tr>\n",
       "  </tbody>\n",
       "</table>\n",
       "</div>"
      ],
      "text/plain": [
       "               GAM(NAT)                SP          RES(16N)          RES(64N)  \\\n",
       "count  15918.0000000000  15908.0000000000  15908.0000000000  15908.0000000000   \n",
       "mean      57.9374041965     45.4881254715     30.4707568519     45.0186949962   \n",
       "std       16.5343995923     49.1730944063     24.6703069910     59.8113927544   \n",
       "min       11.6000000001   -101.5999999997      4.1000000000      3.7000000000   \n",
       "25%       48.0999999996     30.5000000000     10.8999999998     13.1999999997   \n",
       "50%       58.2999999997     53.2000000000     21.8000000001     24.8000000012   \n",
       "75%       67.9999999989     79.6000000000     42.1000000004     52.8000000000   \n",
       "max      147.0999999973    197.1999999996    147.0999999998    571.9999999996   \n",
       "\n",
       "                    RES           LATERAL  \n",
       "count  15908.0000000000  15909.0000000000  \n",
       "mean      24.8556889615  25025.8240115658  \n",
       "std        7.0947108951     18.6581792919  \n",
       "min       13.0000000003  25000.9000000000  \n",
       "25%       18.9999999997  25009.9000000006  \n",
       "50%       23.9999999997  25020.3000000001  \n",
       "75%       29.9000000001  25037.6999999992  \n",
       "max       50.7000000000  25131.5999999999  "
      ]
     },
     "execution_count": 55,
     "metadata": {},
     "output_type": "execute_result"
    }
   ],
   "source": [
    "df = well.df()\n",
    "df.describe()\n",
    "df.info()"
   ]
  },
  {
   "attachments": {},
   "cell_type": "markdown",
   "metadata": {},
   "source": [
    "### Plotting"
   ]
  },
  {
   "attachments": {},
   "cell_type": "markdown",
   "metadata": {},
   "source": [
    "Welly can create simple matplotlib plots. First, find out what curves are present in the file."
   ]
  },
  {
   "cell_type": "code",
   "execution_count": null,
   "metadata": {},
   "outputs": [],
   "source": [
    "well._get_curve_mnemonics()"
   ]
  },
  {
   "attachments": {},
   "cell_type": "markdown",
   "metadata": {},
   "source": [
    "`plot` function accepts a list of curves to be plotted."
   ]
  },
  {
   "cell_type": "code",
   "execution_count": null,
   "metadata": {},
   "outputs": [],
   "source": [
    "tracks = ['MD', 'GAM(NAT)', 'SP', 'RES(16N)', 'RES(64N)', 'RES', 'LATERAL', 'MD']\n",
    "well.plot(tracks=tracks)"
   ]
  },
  {
   "attachments": {},
   "cell_type": "markdown",
   "metadata": {},
   "source": [
    "A portion of the curve we are interested in can be looked at separately."
   ]
  },
  {
   "cell_type": "code",
   "execution_count": null,
   "metadata": {},
   "outputs": [],
   "source": [
    "sp.to_basis(start=1200, stop=1600, step=10.0).plot()"
   ]
  },
  {
   "attachments": {},
   "cell_type": "markdown",
   "metadata": {},
   "source": [
    "A plot with curve trace (coloured in trace) can be plotted with `curve=true`."
   ]
  },
  {
   "cell_type": "code",
   "execution_count": null,
   "metadata": {},
   "outputs": [],
   "source": [
    "res = well.data['RES']\n",
    "res.plot_2d(curve=True, lw=1, edgecolor='k')"
   ]
  },
  {
   "attachments": {},
   "cell_type": "markdown",
   "metadata": {},
   "source": [
    "### Curve Quality Check"
   ]
  },
  {
   "attachments": {},
   "cell_type": "markdown",
   "metadata": {},
   "source": [
    "A dictionary of tests can be used to check the quality of curves. There are predefined tests in the quality module but cutom functions can be used.\n",
    "https://code.agilescientific.com/welly/welly.html#module-welly.quality"
   ]
  },
  {
   "cell_type": "code",
   "execution_count": null,
   "metadata": {},
   "outputs": [],
   "source": [
    "import welly.quality as q\n",
    "\n",
    "# sample test\n",
    "tests = {\n",
    "    'Each': [\n",
    "        q.no_flat,\n",
    "        q.no_monotonic,\n",
    "        q.no_gaps,\n",
    "    ],\n",
    "    'Gamma': [\n",
    "        q.all_positive,\n",
    "        q.all_below(450),\n",
    "        q.check_units(['API', 'GAPI']),\n",
    "    ],\n",
    "    'DT': [\n",
    "        q.all_positive,\n",
    "    ],\n",
    "    'Sonic': [\n",
    "        q.all_between(1, 10000),  # 1333 to 5000 m/s\n",
    "        q.no_spikes(10),          # 10 spikes allowed\n",
    "    ],\n",
    "}\n",
    "\n",
    "result = well.qc_data(tests)"
   ]
  },
  {
   "attachments": {},
   "cell_type": "markdown",
   "metadata": {},
   "source": [
    "The result can be displayed in HTML as well."
   ]
  },
  {
   "cell_type": "code",
   "execution_count": null,
   "metadata": {},
   "outputs": [],
   "source": [
    "from IPython.display import HTML\n",
    "\n",
    "qc_table = well.qc_table_html(tests)\n",
    "HTML(qc_table)"
   ]
  },
  {
   "attachments": {},
   "cell_type": "markdown",
   "metadata": {},
   "source": [
    "## Extracting Objects from LAS"
   ]
  }
 ],
 "metadata": {
  "kernelspec": {
   "display_name": "Python 3",
   "language": "python",
   "name": "python3"
  },
  "language_info": {
   "codemirror_mode": {
    "name": "ipython",
    "version": 3
   },
   "file_extension": ".py",
   "mimetype": "text/x-python",
   "name": "python",
   "nbconvert_exporter": "python",
   "pygments_lexer": "ipython3",
   "version": "3.11.3"
  },
  "orig_nbformat": 4
 },
 "nbformat": 4,
 "nbformat_minor": 2
}
